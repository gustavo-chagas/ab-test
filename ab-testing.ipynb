{
 "cells": [
  {
   "cell_type": "markdown",
   "id": "c4ab34b3",
   "metadata": {
    "heading_collapsed": true
   },
   "source": [
    "# 0.1 Imports and Loading"
   ]
  },
  {
   "cell_type": "code",
   "execution_count": 64,
   "id": "68360f95",
   "metadata": {
    "ExecuteTime": {
     "end_time": "2022-08-29T23:21:03.272024Z",
     "start_time": "2022-08-29T23:21:03.256147Z"
    },
    "hidden": true
   },
   "outputs": [],
   "source": [
    "import pandas as pd\n",
    "import math\n",
    "from statsmodels.stats import api as sms\n",
    "from scipy.stats import chi2_contingency as chi2"
   ]
  },
  {
   "cell_type": "code",
   "execution_count": 2,
   "id": "7435deb6",
   "metadata": {
    "ExecuteTime": {
     "end_time": "2022-08-29T22:04:36.501986Z",
     "start_time": "2022-08-29T22:04:36.167538Z"
    },
    "hidden": true
   },
   "outputs": [],
   "source": [
    "df = pd.read_csv('ab_data.csv')"
   ]
  },
  {
   "cell_type": "markdown",
   "id": "18badfa3",
   "metadata": {},
   "source": [
    "# 1.0 Experiment Design"
   ]
  },
  {
   "cell_type": "markdown",
   "id": "a77d6458",
   "metadata": {
    "heading_collapsed": true
   },
   "source": [
    "## 1.1 Experiment Parameters"
   ]
  },
  {
   "cell_type": "markdown",
   "id": "01029435",
   "metadata": {
    "hidden": true
   },
   "source": [
    "H0 : The new page has no effect on the conversion rate"
   ]
  },
  {
   "cell_type": "code",
   "execution_count": 15,
   "id": "16292323",
   "metadata": {
    "ExecuteTime": {
     "end_time": "2022-08-29T22:25:25.792639Z",
     "start_time": "2022-08-29T22:25:25.777155Z"
    },
    "hidden": true
   },
   "outputs": [],
   "source": [
    "confidence_level = 0.95\n",
    "significance_level = 0.05\n",
    "\n",
    "p1= 0.13\n",
    "p2 = 0.15\n",
    "\n",
    "effect_size = sms.proportion_effectsize(p1, p2)\n",
    "power = 0.8"
   ]
  },
  {
   "cell_type": "code",
   "execution_count": 16,
   "id": "54869fbe",
   "metadata": {
    "ExecuteTime": {
     "end_time": "2022-08-29T22:25:26.348951Z",
     "start_time": "2022-08-29T22:25:26.327479Z"
    },
    "hidden": true
   },
   "outputs": [
    {
     "name": "stdout",
     "output_type": "stream",
     "text": [
      "Control group size: 4720\n",
      "Treatment group size: 4720\n",
      "Total sample size: 9440\n"
     ]
    }
   ],
   "source": [
    "#sample size\n",
    "sample_n = sms.NormalIndPower().solve_power(effect_size, power=power, alpha=significance_level)\n",
    "sample_n = math.ceil(sample_n)\n",
    "\n",
    "print('Control group size: {}'.format(sample_n))\n",
    "print('Treatment group size: {}'.format(sample_n))\n",
    "print('Total sample size: {}'.format(2*sample_n))"
   ]
  },
  {
   "cell_type": "markdown",
   "id": "5b40fb52",
   "metadata": {
    "ExecuteTime": {
     "end_time": "2022-08-29T22:35:39.089587Z",
     "start_time": "2022-08-29T22:35:39.076136Z"
    },
    "heading_collapsed": true
   },
   "source": [
    "# 2.0 Data Preparation"
   ]
  },
  {
   "cell_type": "code",
   "execution_count": 18,
   "id": "b5e4b5af",
   "metadata": {
    "ExecuteTime": {
     "end_time": "2022-08-29T22:36:33.591529Z",
     "start_time": "2022-08-29T22:36:33.565710Z"
    },
    "hidden": true
   },
   "outputs": [
    {
     "name": "stdout",
     "output_type": "stream",
     "text": [
      "Number of rows: 294478\n",
      "Number of columns: 5\n"
     ]
    }
   ],
   "source": [
    "print('Number of rows: {}'.format(df.shape[0]))\n",
    "print('Number of columns: {}'.format(df.shape[1]))"
   ]
  },
  {
   "cell_type": "markdown",
   "id": "951b8ed0",
   "metadata": {
    "heading_collapsed": true,
    "hidden": true
   },
   "source": [
    "## 2.1 Checking Flags"
   ]
  },
  {
   "cell_type": "code",
   "execution_count": 19,
   "id": "0f193f57",
   "metadata": {
    "ExecuteTime": {
     "end_time": "2022-08-29T22:41:26.815889Z",
     "start_time": "2022-08-29T22:41:26.680988Z"
    },
    "hidden": true
   },
   "outputs": [
    {
     "data": {
      "text/html": [
       "<div>\n",
       "<style scoped>\n",
       "    .dataframe tbody tr th:only-of-type {\n",
       "        vertical-align: middle;\n",
       "    }\n",
       "\n",
       "    .dataframe tbody tr th {\n",
       "        vertical-align: top;\n",
       "    }\n",
       "\n",
       "    .dataframe thead th {\n",
       "        text-align: right;\n",
       "    }\n",
       "</style>\n",
       "<table border=\"1\" class=\"dataframe\">\n",
       "  <thead>\n",
       "    <tr style=\"text-align: right;\">\n",
       "      <th></th>\n",
       "      <th>group</th>\n",
       "      <th>landing_page</th>\n",
       "      <th>user_id</th>\n",
       "    </tr>\n",
       "  </thead>\n",
       "  <tbody>\n",
       "    <tr>\n",
       "      <th>0</th>\n",
       "      <td>control</td>\n",
       "      <td>new_page</td>\n",
       "      <td>1928</td>\n",
       "    </tr>\n",
       "    <tr>\n",
       "      <th>1</th>\n",
       "      <td>control</td>\n",
       "      <td>old_page</td>\n",
       "      <td>145274</td>\n",
       "    </tr>\n",
       "    <tr>\n",
       "      <th>2</th>\n",
       "      <td>treatment</td>\n",
       "      <td>new_page</td>\n",
       "      <td>145311</td>\n",
       "    </tr>\n",
       "    <tr>\n",
       "      <th>3</th>\n",
       "      <td>treatment</td>\n",
       "      <td>old_page</td>\n",
       "      <td>1965</td>\n",
       "    </tr>\n",
       "  </tbody>\n",
       "</table>\n",
       "</div>"
      ],
      "text/plain": [
       "       group landing_page  user_id\n",
       "0    control     new_page     1928\n",
       "1    control     old_page   145274\n",
       "2  treatment     new_page   145311\n",
       "3  treatment     old_page     1965"
      ]
     },
     "execution_count": 19,
     "metadata": {},
     "output_type": "execute_result"
    }
   ],
   "source": [
    "df[['user_id','group','landing_page']].groupby(['group','landing_page']).count().reset_index()"
   ]
  },
  {
   "cell_type": "code",
   "execution_count": 23,
   "id": "4c454691",
   "metadata": {
    "ExecuteTime": {
     "end_time": "2022-08-29T22:47:59.726434Z",
     "start_time": "2022-08-29T22:47:59.529869Z"
    },
    "hidden": true
   },
   "outputs": [
    {
     "data": {
      "text/plain": [
       "(286690, 5)"
      ]
     },
     "execution_count": 23,
     "metadata": {},
     "output_type": "execute_result"
    }
   ],
   "source": [
    "user_delete = df[['user_id', 'group']].groupby('user_id').count().reset_index().query('group > 1')['user_id']\n",
    "df1 = df[~df['user_id'].isin(user_delete)]\n",
    "df1.shape"
   ]
  },
  {
   "cell_type": "code",
   "execution_count": 24,
   "id": "e60f4bbb",
   "metadata": {
    "ExecuteTime": {
     "end_time": "2022-08-29T22:49:06.538773Z",
     "start_time": "2022-08-29T22:49:06.436587Z"
    },
    "hidden": true
   },
   "outputs": [
    {
     "data": {
      "text/html": [
       "<div>\n",
       "<style scoped>\n",
       "    .dataframe tbody tr th:only-of-type {\n",
       "        vertical-align: middle;\n",
       "    }\n",
       "\n",
       "    .dataframe tbody tr th {\n",
       "        vertical-align: top;\n",
       "    }\n",
       "\n",
       "    .dataframe thead th {\n",
       "        text-align: right;\n",
       "    }\n",
       "</style>\n",
       "<table border=\"1\" class=\"dataframe\">\n",
       "  <thead>\n",
       "    <tr style=\"text-align: right;\">\n",
       "      <th></th>\n",
       "      <th>group</th>\n",
       "      <th>landing_page</th>\n",
       "      <th>user_id</th>\n",
       "    </tr>\n",
       "  </thead>\n",
       "  <tbody>\n",
       "    <tr>\n",
       "      <th>0</th>\n",
       "      <td>control</td>\n",
       "      <td>old_page</td>\n",
       "      <td>143293</td>\n",
       "    </tr>\n",
       "    <tr>\n",
       "      <th>1</th>\n",
       "      <td>treatment</td>\n",
       "      <td>new_page</td>\n",
       "      <td>143397</td>\n",
       "    </tr>\n",
       "  </tbody>\n",
       "</table>\n",
       "</div>"
      ],
      "text/plain": [
       "       group landing_page  user_id\n",
       "0    control     old_page   143293\n",
       "1  treatment     new_page   143397"
      ]
     },
     "execution_count": 24,
     "metadata": {},
     "output_type": "execute_result"
    }
   ],
   "source": [
    "df1[['user_id','group','landing_page']].groupby(['group','landing_page']).count().reset_index()"
   ]
  },
  {
   "cell_type": "markdown",
   "id": "43cba999",
   "metadata": {
    "heading_collapsed": true,
    "hidden": true
   },
   "source": [
    "## 2.2 Data Sampling"
   ]
  },
  {
   "cell_type": "code",
   "execution_count": 61,
   "id": "ae84073c",
   "metadata": {
    "ExecuteTime": {
     "end_time": "2022-08-29T23:09:59.194215Z",
     "start_time": "2022-08-29T23:09:59.093990Z"
    },
    "hidden": true
   },
   "outputs": [
    {
     "name": "stdout",
     "output_type": "stream",
     "text": [
      "Size of control group: 4720\n",
      "Size of treatment group: 4720\n"
     ]
    }
   ],
   "source": [
    "df_control_sample = df1[df1['group'] == 'control'].sample(sample_n, random_state=42) \n",
    "print('Size of control group: {}'.format(df_control_sample.shape[0]))\n",
    "\n",
    "df_treatment_sample = df1[df1['group'] == 'treatment'].sample(sample_n, random_state=42)\n",
    "print('Size of treatment group: {}'.format(df_treatment_sample.shape[0]))\n",
    "\n",
    "df_total = pd.concat([df_control_sample, df_treatment_sample]).reset_index(drop=True)"
   ]
  },
  {
   "cell_type": "markdown",
   "id": "c1fea143",
   "metadata": {
    "heading_collapsed": true
   },
   "source": [
    "# 3.0 Calculating Conversion Rate"
   ]
  },
  {
   "cell_type": "code",
   "execution_count": 62,
   "id": "2e6df8dd",
   "metadata": {
    "ExecuteTime": {
     "end_time": "2022-08-29T23:09:59.886847Z",
     "start_time": "2022-08-29T23:09:59.856863Z"
    },
    "hidden": true
   },
   "outputs": [
    {
     "name": "stdout",
     "output_type": "stream",
     "text": [
      "Conversion rate of the control group: 0.11546610169491525\n",
      "Conversion rate of the treatment group: 0.12902542372881357\n"
     ]
    }
   ],
   "source": [
    "sales_control = df_control_sample['converted'].sum()\n",
    "visit_control = df_control_sample['converted'].count()\n",
    "cr_control = sales_control/visit_control\n",
    "print('Conversion rate of the control group: {}'.format(cr_control))\n",
    "\n",
    "sales_treatment = df_treatment_sample['converted'].sum()\n",
    "visit_treatment = df_treatment_sample['converted'].count()\n",
    "cr_treatment = sales_treatment/visit_treatment\n",
    "print('Conversion rate of the treatment group: {}'.format(cr_treatment))"
   ]
  },
  {
   "cell_type": "markdown",
   "id": "03546069",
   "metadata": {},
   "source": [
    "# 4.0 Statistical Hypothesis Testing"
   ]
  },
  {
   "cell_type": "code",
   "execution_count": 67,
   "id": "b32781d8",
   "metadata": {
    "ExecuteTime": {
     "end_time": "2022-08-29T23:28:52.171751Z",
     "start_time": "2022-08-29T23:28:52.143735Z"
    }
   },
   "outputs": [
    {
     "name": "stdout",
     "output_type": "stream",
     "text": [
      "p-value: 0.08\n",
      "Failed to reject H0\n"
     ]
    }
   ],
   "source": [
    "df_table = df_total[['group','converted']].groupby('group').agg({'converted':['sum','count']})\n",
    "df_table.columns = ['converted', 'non_converted']\n",
    "chi_val, pval, dof, expected = chi2(df_table)\n",
    "\n",
    "print('p-value: {:.2f}'.format(pval))\n",
    "\n",
    "if pval < significance_level:\n",
    "    print('H0 is rejected')\n",
    "else:\n",
    "    print('Failed to reject H0')"
   ]
  },
  {
   "cell_type": "code",
   "execution_count": null,
   "id": "9f7fbb7e",
   "metadata": {},
   "outputs": [],
   "source": []
  }
 ],
 "metadata": {
  "kernelspec": {
   "display_name": "Python 3 (ipykernel)",
   "language": "python",
   "name": "python3"
  },
  "language_info": {
   "codemirror_mode": {
    "name": "ipython",
    "version": 3
   },
   "file_extension": ".py",
   "mimetype": "text/x-python",
   "name": "python",
   "nbconvert_exporter": "python",
   "pygments_lexer": "ipython3",
   "version": "3.9.12"
  }
 },
 "nbformat": 4,
 "nbformat_minor": 5
}
